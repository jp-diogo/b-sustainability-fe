{
 "cells": [
  {
   "cell_type": "code",
   "execution_count": 1,
   "id": "7cd55949",
   "metadata": {},
   "outputs": [],
   "source": [
    "import pandas as pd\n",
    "import streamlit as st\n",
    "import datetime\n",
    "from datetime import timedelta\n",
    "import requests"
   ]
  },
  {
   "cell_type": "code",
   "execution_count": 2,
   "id": "f37a38e1",
   "metadata": {},
   "outputs": [],
   "source": [
    "pred_date = datetime.date(2022, 1, 13)\n",
    "pred_time = datetime.time(8,00)"
   ]
  },
  {
   "cell_type": "code",
   "execution_count": 3,
   "id": "45f49bcc",
   "metadata": {},
   "outputs": [],
   "source": [
    "pred_timestamp = datetime.datetime.combine(pred_date, \n",
    "                          pred_time)"
   ]
  },
  {
   "cell_type": "code",
   "execution_count": 4,
   "id": "f3c9b81f",
   "metadata": {},
   "outputs": [
    {
     "data": {
      "text/plain": [
       "'2022-01-13 08:00:00'"
      ]
     },
     "execution_count": 4,
     "metadata": {},
     "output_type": "execute_result"
    }
   ],
   "source": [
    "str(pred_timestamp)"
   ]
  },
  {
   "cell_type": "code",
   "execution_count": 5,
   "id": "c32dd208",
   "metadata": {},
   "outputs": [],
   "source": [
    "prediction = pd.read_csv('../raw_data/example_prediction.csv')"
   ]
  },
  {
   "cell_type": "code",
   "execution_count": 53,
   "id": "a708a282",
   "metadata": {},
   "outputs": [
    {
     "data": {
      "text/plain": [
       "Index(['Unnamed: 0', 'prediction'], dtype='object')"
      ]
     },
     "execution_count": 53,
     "metadata": {},
     "output_type": "execute_result"
    }
   ],
   "source": [
    "df = prediction.copy()\n",
    "df.columns"
   ]
  },
  {
   "cell_type": "code",
   "execution_count": 7,
   "id": "cd99d1de",
   "metadata": {},
   "outputs": [],
   "source": [
    "def create_prediction_dataframe(df, pred_timestamp):\n",
    "    # Takes the 120hrs prediction values from API and returns dataframe\n",
    "    # including Predicted Price, Hours from Pred, Pred Timestamp & Date\n",
    "    df['Hours from Pred'] = df['Unnamed: 0'] + 1\n",
    "    df = df.drop(columns='Unnamed: 0')\n",
    "    df = df.rename(columns={'prediction':'Predicted Price'})\n",
    "    df['Predicted Price'] = df['Predicted Price'].map(\n",
    "        lambda x: round(x,2))\n",
    "    df['Predicted Price Timestamp'] = df['Hours from Pred'].map(\n",
    "        lambda x: pred_timestamp + timedelta(hours=x))\n",
    "    df['Date'] = df['Predicted Price Timestamp'].dt.date\n",
    "    df = df.set_index(['Predicted Price Timestamp'])\n",
    "    return df"
   ]
  },
  {
   "cell_type": "code",
   "execution_count": 8,
   "id": "09312c33",
   "metadata": {},
   "outputs": [
    {
     "data": {
      "text/html": [
       "<div>\n",
       "<style scoped>\n",
       "    .dataframe tbody tr th:only-of-type {\n",
       "        vertical-align: middle;\n",
       "    }\n",
       "\n",
       "    .dataframe tbody tr th {\n",
       "        vertical-align: top;\n",
       "    }\n",
       "\n",
       "    .dataframe thead th {\n",
       "        text-align: right;\n",
       "    }\n",
       "</style>\n",
       "<table border=\"1\" class=\"dataframe\">\n",
       "  <thead>\n",
       "    <tr style=\"text-align: right;\">\n",
       "      <th></th>\n",
       "      <th>Predicted Price</th>\n",
       "      <th>Hours from Pred</th>\n",
       "      <th>Date</th>\n",
       "    </tr>\n",
       "    <tr>\n",
       "      <th>Predicted Price Timestamp</th>\n",
       "      <th></th>\n",
       "      <th></th>\n",
       "      <th></th>\n",
       "    </tr>\n",
       "  </thead>\n",
       "  <tbody>\n",
       "    <tr>\n",
       "      <th>2022-01-13 09:00:00</th>\n",
       "      <td>165.68</td>\n",
       "      <td>1</td>\n",
       "      <td>2022-01-13</td>\n",
       "    </tr>\n",
       "    <tr>\n",
       "      <th>2022-01-13 10:00:00</th>\n",
       "      <td>165.50</td>\n",
       "      <td>2</td>\n",
       "      <td>2022-01-13</td>\n",
       "    </tr>\n",
       "    <tr>\n",
       "      <th>2022-01-13 11:00:00</th>\n",
       "      <td>166.02</td>\n",
       "      <td>3</td>\n",
       "      <td>2022-01-13</td>\n",
       "    </tr>\n",
       "    <tr>\n",
       "      <th>2022-01-13 12:00:00</th>\n",
       "      <td>162.06</td>\n",
       "      <td>4</td>\n",
       "      <td>2022-01-13</td>\n",
       "    </tr>\n",
       "    <tr>\n",
       "      <th>2022-01-13 13:00:00</th>\n",
       "      <td>157.77</td>\n",
       "      <td>5</td>\n",
       "      <td>2022-01-13</td>\n",
       "    </tr>\n",
       "    <tr>\n",
       "      <th>...</th>\n",
       "      <td>...</td>\n",
       "      <td>...</td>\n",
       "      <td>...</td>\n",
       "    </tr>\n",
       "    <tr>\n",
       "      <th>2022-01-18 04:00:00</th>\n",
       "      <td>113.11</td>\n",
       "      <td>116</td>\n",
       "      <td>2022-01-18</td>\n",
       "    </tr>\n",
       "    <tr>\n",
       "      <th>2022-01-18 05:00:00</th>\n",
       "      <td>114.39</td>\n",
       "      <td>117</td>\n",
       "      <td>2022-01-18</td>\n",
       "    </tr>\n",
       "    <tr>\n",
       "      <th>2022-01-18 06:00:00</th>\n",
       "      <td>121.32</td>\n",
       "      <td>118</td>\n",
       "      <td>2022-01-18</td>\n",
       "    </tr>\n",
       "    <tr>\n",
       "      <th>2022-01-18 07:00:00</th>\n",
       "      <td>124.14</td>\n",
       "      <td>119</td>\n",
       "      <td>2022-01-18</td>\n",
       "    </tr>\n",
       "    <tr>\n",
       "      <th>2022-01-18 08:00:00</th>\n",
       "      <td>125.28</td>\n",
       "      <td>120</td>\n",
       "      <td>2022-01-18</td>\n",
       "    </tr>\n",
       "  </tbody>\n",
       "</table>\n",
       "<p>120 rows × 3 columns</p>\n",
       "</div>"
      ],
      "text/plain": [
       "                           Predicted Price  Hours from Pred        Date\n",
       "Predicted Price Timestamp                                              \n",
       "2022-01-13 09:00:00                 165.68                1  2022-01-13\n",
       "2022-01-13 10:00:00                 165.50                2  2022-01-13\n",
       "2022-01-13 11:00:00                 166.02                3  2022-01-13\n",
       "2022-01-13 12:00:00                 162.06                4  2022-01-13\n",
       "2022-01-13 13:00:00                 157.77                5  2022-01-13\n",
       "...                                    ...              ...         ...\n",
       "2022-01-18 04:00:00                 113.11              116  2022-01-18\n",
       "2022-01-18 05:00:00                 114.39              117  2022-01-18\n",
       "2022-01-18 06:00:00                 121.32              118  2022-01-18\n",
       "2022-01-18 07:00:00                 124.14              119  2022-01-18\n",
       "2022-01-18 08:00:00                 125.28              120  2022-01-18\n",
       "\n",
       "[120 rows x 3 columns]"
      ]
     },
     "execution_count": 8,
     "metadata": {},
     "output_type": "execute_result"
    }
   ],
   "source": [
    "create_prediction_dataframe(df, pred_timestamp)"
   ]
  },
  {
   "cell_type": "code",
   "execution_count": 75,
   "id": "ccba4957",
   "metadata": {},
   "outputs": [
    {
     "data": {
      "text/plain": [
       "{'timestamp': datetime.datetime(2022, 1, 13, 8, 0)}"
      ]
     },
     "execution_count": 75,
     "metadata": {},
     "output_type": "execute_result"
    }
   ],
   "source": [
    "url = 'http://127.0.0.1:8000/predict'\n",
    "params = dict(timestamp = pred_timestamp)\n",
    "params"
   ]
  },
  {
   "cell_type": "code",
   "execution_count": 76,
   "id": "1439eb69",
   "metadata": {},
   "outputs": [],
   "source": [
    "# retrieve the response\n",
    "response = requests.get(\n",
    "    url,\n",
    "    params\n",
    ")"
   ]
  },
  {
   "cell_type": "code",
   "execution_count": 77,
   "id": "d3a266f2",
   "metadata": {},
   "outputs": [
    {
     "data": {
      "text/plain": [
       "<Response [200]>"
      ]
     },
     "execution_count": 77,
     "metadata": {},
     "output_type": "execute_result"
    }
   ],
   "source": [
    "response"
   ]
  },
  {
   "cell_type": "code",
   "execution_count": 71,
   "id": "6a2c048f",
   "metadata": {},
   "outputs": [],
   "source": [
    "prediction_list = response.json().get('prediction')[0]"
   ]
  },
  {
   "cell_type": "code",
   "execution_count": 72,
   "id": "0f803715",
   "metadata": {
    "collapsed": true
   },
   "outputs": [
    {
     "data": {
      "text/plain": [
       "[116.86344909667969,\n",
       " 118.01678466796875,\n",
       " 119.78205871582031,\n",
       " 119.05948638916016,\n",
       " 118.06893157958984,\n",
       " 116.61492156982422,\n",
       " 118.93959045410156,\n",
       " 116.35028839111328,\n",
       " 114.97250366210938,\n",
       " 116.45359802246094,\n",
       " 116.2083740234375,\n",
       " 116.29627227783203,\n",
       " 115.2305908203125,\n",
       " 111.27595520019531,\n",
       " 110.21556091308594,\n",
       " 111.07643127441406,\n",
       " 111.81678771972656,\n",
       " 110.93881225585938,\n",
       " 109.93574523925781,\n",
       " 109.36148834228516,\n",
       " 113.052490234375,\n",
       " 116.8499755859375,\n",
       " 119.59349060058594,\n",
       " 115.44292449951172,\n",
       " 120.47846221923828,\n",
       " 117.1151123046875,\n",
       " 117.50700378417969,\n",
       " 118.58670043945312,\n",
       " 116.30694580078125,\n",
       " 115.5933609008789,\n",
       " 112.71744537353516,\n",
       " 111.5177993774414,\n",
       " 111.18412017822266,\n",
       " 115.40294647216797,\n",
       " 112.23776245117188,\n",
       " 111.04476165771484,\n",
       " 108.98979949951172,\n",
       " 108.5714340209961,\n",
       " 106.50813293457031,\n",
       " 108.58918762207031,\n",
       " 106.6117172241211,\n",
       " 107.4358139038086,\n",
       " 105.45355987548828,\n",
       " 104.1482162475586,\n",
       " 104.84217071533203,\n",
       " 108.35851287841797,\n",
       " 109.43585968017578,\n",
       " 109.99124908447266,\n",
       " 108.73939514160156,\n",
       " 108.79156494140625,\n",
       " 110.04830169677734,\n",
       " 109.09420776367188,\n",
       " 108.12191009521484,\n",
       " 108.00752258300781,\n",
       " 104.74736785888672,\n",
       " 102.45330810546875,\n",
       " 101.40193939208984,\n",
       " 101.44552612304688,\n",
       " 99.63196563720703,\n",
       " 98.18183135986328,\n",
       " 98.15584564208984,\n",
       " 99.3178939819336,\n",
       " 98.92388916015625,\n",
       " 96.55082702636719,\n",
       " 98.25935363769531,\n",
       " 98.55829620361328,\n",
       " 97.44097137451172,\n",
       " 94.9141616821289,\n",
       " 99.18009185791016,\n",
       " 98.93475341796875,\n",
       " 102.11421203613281,\n",
       " 101.39533996582031,\n",
       " 100.09159088134766,\n",
       " 102.68643951416016,\n",
       " 100.9885482788086,\n",
       " 100.2859878540039,\n",
       " 101.95835876464844,\n",
       " 100.52155303955078,\n",
       " 99.18023681640625,\n",
       " 96.18048858642578,\n",
       " 94.90693664550781,\n",
       " 93.60092163085938,\n",
       " 92.37867736816406,\n",
       " 90.69109344482422,\n",
       " 89.70968627929688,\n",
       " 93.42633819580078,\n",
       " 92.05329895019531,\n",
       " 89.41426849365234,\n",
       " 92.6671371459961,\n",
       " 93.15184020996094,\n",
       " 94.45027923583984,\n",
       " 92.12784576416016,\n",
       " 92.79873657226562,\n",
       " 94.70841217041016,\n",
       " 95.5766372680664,\n",
       " 96.99174499511719,\n",
       " 94.6097183227539,\n",
       " 96.08289337158203,\n",
       " 95.96444702148438,\n",
       " 96.3303451538086,\n",
       " 93.65218353271484,\n",
       " 95.21172332763672,\n",
       " 93.36687469482422,\n",
       " 91.07032012939453,\n",
       " 90.32205200195312,\n",
       " 85.58109283447266,\n",
       " 84.81777954101562,\n",
       " 84.77364349365234,\n",
       " 81.16920471191406,\n",
       " 86.26746368408203,\n",
       " 85.07420349121094,\n",
       " 83.15827941894531,\n",
       " 83.00326538085938,\n",
       " 82.40234375,\n",
       " 82.06015014648438,\n",
       " 81.72183990478516,\n",
       " 81.54216766357422,\n",
       " 86.23717498779297,\n",
       " 87.9714584350586,\n",
       " 89.173095703125]"
      ]
     },
     "execution_count": 72,
     "metadata": {},
     "output_type": "execute_result"
    }
   ],
   "source": [
    "prediction_list"
   ]
  },
  {
   "cell_type": "code",
   "execution_count": 70,
   "id": "67540e9a",
   "metadata": {},
   "outputs": [],
   "source": [
    "def create_prediction_results_df(prediction_list, pred_timestamp):\n",
    "    results_df = pd.DataFrame(prediction_list, columns=['Predicted Price'])\n",
    "    results_df['Hours from Pred'] = results_df.index + 1\n",
    "    results_df['Prediction_Timestamp'] = results_df['Hours from Pred'].map(lambda x: pred_timestamp + timedelta(hours=x))\n",
    "    results_df['Predicted Price'] = results_df['Predicted Price'].map(lambda x: round(x,2))\n",
    "    results_df['Date'] = results_df['Prediction_Timestamp'].dt.date\n",
    "    results_df = results_df.set_index(['Prediction_Timestamp'])\n",
    "    return results_df"
   ]
  },
  {
   "cell_type": "code",
   "execution_count": 73,
   "id": "1695f14e",
   "metadata": {},
   "outputs": [],
   "source": [
    "test_df = create_prediction_results_df(prediction_list, pred_timestamp)"
   ]
  },
  {
   "cell_type": "code",
   "execution_count": 74,
   "id": "b818d2a2",
   "metadata": {},
   "outputs": [
    {
     "data": {
      "text/html": [
       "<div>\n",
       "<style scoped>\n",
       "    .dataframe tbody tr th:only-of-type {\n",
       "        vertical-align: middle;\n",
       "    }\n",
       "\n",
       "    .dataframe tbody tr th {\n",
       "        vertical-align: top;\n",
       "    }\n",
       "\n",
       "    .dataframe thead th {\n",
       "        text-align: right;\n",
       "    }\n",
       "</style>\n",
       "<table border=\"1\" class=\"dataframe\">\n",
       "  <thead>\n",
       "    <tr style=\"text-align: right;\">\n",
       "      <th></th>\n",
       "      <th>Predicted Price</th>\n",
       "      <th>Hours from Pred</th>\n",
       "      <th>Date</th>\n",
       "    </tr>\n",
       "    <tr>\n",
       "      <th>Prediction_Timestamp</th>\n",
       "      <th></th>\n",
       "      <th></th>\n",
       "      <th></th>\n",
       "    </tr>\n",
       "  </thead>\n",
       "  <tbody>\n",
       "    <tr>\n",
       "      <th>2022-01-13 09:00:00</th>\n",
       "      <td>116.86</td>\n",
       "      <td>1</td>\n",
       "      <td>2022-01-13</td>\n",
       "    </tr>\n",
       "    <tr>\n",
       "      <th>2022-01-13 10:00:00</th>\n",
       "      <td>118.02</td>\n",
       "      <td>2</td>\n",
       "      <td>2022-01-13</td>\n",
       "    </tr>\n",
       "    <tr>\n",
       "      <th>2022-01-13 11:00:00</th>\n",
       "      <td>119.78</td>\n",
       "      <td>3</td>\n",
       "      <td>2022-01-13</td>\n",
       "    </tr>\n",
       "    <tr>\n",
       "      <th>2022-01-13 12:00:00</th>\n",
       "      <td>119.06</td>\n",
       "      <td>4</td>\n",
       "      <td>2022-01-13</td>\n",
       "    </tr>\n",
       "    <tr>\n",
       "      <th>2022-01-13 13:00:00</th>\n",
       "      <td>118.07</td>\n",
       "      <td>5</td>\n",
       "      <td>2022-01-13</td>\n",
       "    </tr>\n",
       "    <tr>\n",
       "      <th>...</th>\n",
       "      <td>...</td>\n",
       "      <td>...</td>\n",
       "      <td>...</td>\n",
       "    </tr>\n",
       "    <tr>\n",
       "      <th>2022-01-18 04:00:00</th>\n",
       "      <td>81.72</td>\n",
       "      <td>116</td>\n",
       "      <td>2022-01-18</td>\n",
       "    </tr>\n",
       "    <tr>\n",
       "      <th>2022-01-18 05:00:00</th>\n",
       "      <td>81.54</td>\n",
       "      <td>117</td>\n",
       "      <td>2022-01-18</td>\n",
       "    </tr>\n",
       "    <tr>\n",
       "      <th>2022-01-18 06:00:00</th>\n",
       "      <td>86.24</td>\n",
       "      <td>118</td>\n",
       "      <td>2022-01-18</td>\n",
       "    </tr>\n",
       "    <tr>\n",
       "      <th>2022-01-18 07:00:00</th>\n",
       "      <td>87.97</td>\n",
       "      <td>119</td>\n",
       "      <td>2022-01-18</td>\n",
       "    </tr>\n",
       "    <tr>\n",
       "      <th>2022-01-18 08:00:00</th>\n",
       "      <td>89.17</td>\n",
       "      <td>120</td>\n",
       "      <td>2022-01-18</td>\n",
       "    </tr>\n",
       "  </tbody>\n",
       "</table>\n",
       "<p>120 rows × 3 columns</p>\n",
       "</div>"
      ],
      "text/plain": [
       "                      Predicted Price  Hours from Pred        Date\n",
       "Prediction_Timestamp                                              \n",
       "2022-01-13 09:00:00            116.86                1  2022-01-13\n",
       "2022-01-13 10:00:00            118.02                2  2022-01-13\n",
       "2022-01-13 11:00:00            119.78                3  2022-01-13\n",
       "2022-01-13 12:00:00            119.06                4  2022-01-13\n",
       "2022-01-13 13:00:00            118.07                5  2022-01-13\n",
       "...                               ...              ...         ...\n",
       "2022-01-18 04:00:00             81.72              116  2022-01-18\n",
       "2022-01-18 05:00:00             81.54              117  2022-01-18\n",
       "2022-01-18 06:00:00             86.24              118  2022-01-18\n",
       "2022-01-18 07:00:00             87.97              119  2022-01-18\n",
       "2022-01-18 08:00:00             89.17              120  2022-01-18\n",
       "\n",
       "[120 rows x 3 columns]"
      ]
     },
     "execution_count": 74,
     "metadata": {},
     "output_type": "execute_result"
    }
   ],
   "source": [
    "test_df"
   ]
  },
  {
   "cell_type": "code",
   "execution_count": null,
   "id": "edd27c77",
   "metadata": {},
   "outputs": [],
   "source": []
  }
 ],
 "metadata": {
  "kernelspec": {
   "display_name": "Python 3 (ipykernel)",
   "language": "python",
   "name": "python3"
  },
  "language_info": {
   "codemirror_mode": {
    "name": "ipython",
    "version": 3
   },
   "file_extension": ".py",
   "mimetype": "text/x-python",
   "name": "python",
   "nbconvert_exporter": "python",
   "pygments_lexer": "ipython3",
   "version": "3.8.12"
  },
  "toc": {
   "base_numbering": 1,
   "nav_menu": {},
   "number_sections": true,
   "sideBar": true,
   "skip_h1_title": false,
   "title_cell": "Table of Contents",
   "title_sidebar": "Contents",
   "toc_cell": false,
   "toc_position": {},
   "toc_section_display": true,
   "toc_window_display": false
  }
 },
 "nbformat": 4,
 "nbformat_minor": 5
}
